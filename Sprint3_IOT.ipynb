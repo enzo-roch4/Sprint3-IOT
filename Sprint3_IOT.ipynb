{
  "nbformat": 4,
  "nbformat_minor": 0,
  "metadata": {
    "colab": {
      "provenance": []
    },
    "kernelspec": {
      "name": "python3",
      "display_name": "Python 3"
    },
    "language_info": {
      "name": "python"
    }
  },
  "cells": [
    {
      "cell_type": "code",
      "source": [
        "import cv2\n",
        "import requests\n",
        "import numpy as np\n",
        "from google.colab.patches import cv2_imshow\n",
        "\n",
        "\n",
        "# Configuração da API Roboflow\n",
        "api_url = \"https://detect.roboflow.com\"\n",
        "api_key = \"PH63YsNXfScM9AgIGGR5\"\n",
        "model_id = \"modelo-ch-2025/2\"\n",
        "\n",
        "def analyze_image(image_path):\n",
        "    \"\"\"\n",
        "    Analisa uma imagem usando a API Roboflow e desenha as previsões.\n",
        "    \"\"\"\n",
        "    url = f\"{api_url}/{model_id}?api_key={api_key}\"  # Construção da URL da API\n",
        "\n",
        "    try:\n",
        "        with open(image_path, 'rb') as image_file:\n",
        "            files = {'file': image_file}\n",
        "            response = requests.post(url, files=files)\n",
        "            response.raise_for_status()  # Lança exceção se a resposta não for bem-sucedida\n",
        "\n",
        "            result = response.json()\n",
        "            predictions = result.get('predictions', [])\n",
        "            image = cv2.imread(image_path)\n",
        "\n",
        "            for prediction in predictions:\n",
        "                x, y, width, height = prediction['x'], prediction['y'], prediction['width'], prediction['height']\n",
        "                class_name = prediction['class']\n",
        "                confidence = prediction['confidence']\n",
        "\n",
        "                start_point = (int(x - width / 2), int(y - height / 2))\n",
        "                end_point = (int(x + width / 2), int(y + height / 2))\n",
        "                color = (255, 0, 0)  # Azul\n",
        "                cv2.rectangle(image, start_point, end_point, color, 2)\n",
        "                cv2.putText(image, f\"{class_name} ({confidence:.2f})\", (start_point[0], start_point[1] - 10),\n",
        "                            cv2.FONT_HERSHEY_SIMPLEX, 0.5, color, 2)\n",
        "\n",
        "            cv2_imshow(image)  # Usar cv2_imshow para mostrar a imagem no Colab\n",
        "\n",
        "    except requests.exceptions.RequestException as e:\n",
        "        print(f\"Erro ao fazer requisição à API: {e}\")\n",
        "    except Exception as e:\n",
        "        print(f\"Erro ao processar os resultados: {e}\")\n",
        "\n",
        "\n",
        "while True:\n",
        "    image_path = input(\"Digite o caminho da imagem (ou 'sair' para encerrar): \")\n",
        "    if image_path.lower() == 'sair':\n",
        "        break\n",
        "    analyze_image(image_path)\n"
      ],
      "metadata": {
        "colab": {
          "base_uri": "https://localhost:8080/"
        },
        "id": "oEDj_bFfpT6e",
        "outputId": "b63405fe-8aa3-4dcd-b7f3-3456eeb3535f"
      },
      "execution_count": 5,
      "outputs": [
        {
          "name": "stdout",
          "output_type": "stream",
          "text": [
            "Digite o caminho da imagem (ou 'sair' para encerrar): sair\n"
          ]
        }
      ]
    }
  ]
}